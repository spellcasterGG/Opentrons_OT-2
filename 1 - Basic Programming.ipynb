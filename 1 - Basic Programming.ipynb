{
 "cells": [
  {
   "cell_type": "code",
   "execution_count": 1,
   "metadata": {},
   "outputs": [
    {
     "name": "stderr",
     "output_type": "stream",
     "text": [
      "Failed to initialize character device, will not be able to control gpios (lights, button, smoothiekill, smoothie reset). Only one connection can be made to the gpios at a time. If you need to control gpios, first stop the robot server with systemctl stop opentrons-robot-server. Until you restart the server with systemctl start opentrons-robot-server, you will be unable to control the robot using the Opentrons app.\n"
     ]
    },
    {
     "name": "stdout",
     "output_type": "stream",
     "text": [
      "Sending pipette carriage home.\n",
      "    Done!\n",
      "\n"
     ]
    }
   ],
   "source": [
    "exec(open(\"initialize_ot2.py\").read())\n",
    "#exec(open(\"initialize_ot2_simulate.py\").read())"
   ]
  },
  {
   "cell_type": "code",
   "execution_count": 2,
   "metadata": {},
   "outputs": [],
   "source": [
    "solvents = protocol.load_labware('opentrons_6_tuberack_nest_50ml_conical', 1)\n",
    "#stocks = protocol.load_labware_from_definition(json.load(open('brautech_8_wellplate_20000ul.json')), 2)\n",
    "#samples = protocol.load_labware_from_definition(json.load(open('agilent_54_wellplate_2000ul.json')), 3)"
   ]
  },
  {
   "cell_type": "code",
   "execution_count": null,
   "metadata": {},
   "outputs": [],
   "source": [
    "#aspirateVolume(volumeTotal,\n",
    "#               source_plate,\n",
    "#               source_location,\n",
    "#               source_volume,\n",
    "#               source_vialType,\n",
    "#               dest_plate,\n",
    "#               dest_location,\n",
    "#               dest_volume_total,\n",
    "#               newPipetteTip = 1,\n",
    "#               dispenseRate = 1\n",
    "#              )"
   ]
  },
  {
   "cell_type": "markdown",
   "metadata": {},
   "source": [
    "volumeTotal = total volume to move"
   ]
  },
  {
   "cell_type": "code",
   "execution_count": 3,
   "metadata": {},
   "outputs": [
    {
     "name": "stdout",
     "output_type": "stream",
     "text": [
      "    sample volume = 250 uL (+250 uL from P300)\n",
      "    sample volume = 500 uL (+250 uL from P300)\n",
      "    sample volume = 750 uL (+250 uL from P300)\n",
      "    sample volume = 1000 uL (+250 uL from P300)\n",
      "    sample volume = 1250 uL (+250 uL from P300)\n",
      "    sample volume = 1500 uL (+250 uL from P300)\n",
      "    sample volume = 1750 uL (+250 uL from P300)\n",
      "    sample volume = 2000 uL (+250 uL from P300)\n",
      "    sample volume = 2250 uL (+250 uL from P300)\n",
      "    sample volume = 2500 uL (+250 uL from P300)\n",
      "    sample volume = 2750 uL (+250 uL from P300)\n",
      "    sample volume = 3000 uL (+250 uL from P300)\n",
      "    sample volume = 3250 uL (+250 uL from P300)\n",
      "    sample volume = 3500 uL (+250 uL from P300)\n",
      "    sample volume = 3750 uL (+250 uL from P300)\n",
      "    sample volume = 4000 uL (+250 uL from P300)\n",
      "    sample volume = 4250 uL (+250 uL from P300)\n",
      "    sample volume = 4500 uL (+250 uL from P300)\n",
      "    sample volume = 4750 uL (+250 uL from P300)\n",
      "    sample volume = 5000 uL (+250 uL from P300)\n"
     ]
    },
    {
     "name": "stderr",
     "output_type": "stream",
     "text": [
      "Out of bounds move: Y=351.70248541322326 (transformed: 353.9667813140568) not inlimits (-0.3398532169938517, 347.63439142779924) (transformed: (0, 350.05)\n",
      "Out of bounds move: Y=351.70248541322326 (transformed: 353.9667813140568) not inlimits (-0.3398532169938517, 347.63439142779924) (transformed: (0, 350.05)\n",
      "Out of bounds move: Y=351.70248541322326 (transformed: 353.9667813140568) not inlimits (-0.3398532169938517, 347.63439142779924) (transformed: (0, 350.05)\n",
      "Out of bounds move: Y=351.70248541322326 (transformed: 353.9667813140568) not inlimits (-0.3398532169938517, 347.63439142779924) (transformed: (0, 350.05)\n",
      "Out of bounds move: Y=351.6977077770244 (transformed: 353.96199999999993) not inlimits (-0.3398532169938517, 347.63439142779924) (transformed: (0, 350.05)\n",
      "Out of bounds move: Y=351.6977077770244 (transformed: 353.95637774999994) not inlimits (-0.3398532169938517, 347.63439142779924) (transformed: (0, 350.05)\n",
      "Out of bounds move: Y=351.6977077770244 (transformed: 353.96762225) not inlimits (-0.3398532169938517, 347.63439142779924) (transformed: (0, 350.05)\n",
      "Out of bounds move: Y=351.6977077770244 (transformed: 353.96199999999993) not inlimits (-0.3398532169938517, 347.63439142779924) (transformed: (0, 350.05)\n",
      "Out of bounds move: Y=351.6977077770244 (transformed: 353.96199999999993) not inlimits (-0.3398532169938517, 347.63439142779924) (transformed: (0, 350.05)\n"
     ]
    },
    {
     "name": "stdout",
     "output_type": "stream",
     "text": [
      "Volume Remaining = 0 uL\n"
     ]
    },
    {
     "name": "stderr",
     "output_type": "stream",
     "text": [
      "Out of bounds move: Y=351.6977077770244 (transformed: 353.96199999999993) not inlimits (-0.3398532169938517, 347.63439142779924) (transformed: (0, 350.05)\n"
     ]
    },
    {
     "name": "stdout",
     "output_type": "stream",
     "text": [
      "    sample volume = 250 uL (+250 uL from P300)\n",
      "    sample volume = 500 uL (+250 uL from P300)\n",
      "    sample volume = 750 uL (+250 uL from P300)\n",
      "    sample volume = 1000 uL (+250 uL from P300)\n",
      "    sample volume = 1250 uL (+250 uL from P300)\n",
      "    sample volume = 1500 uL (+250 uL from P300)\n",
      "    sample volume = 1750 uL (+250 uL from P300)\n",
      "    sample volume = 2000 uL (+250 uL from P300)\n",
      "    sample volume = 2250 uL (+250 uL from P300)\n",
      "    sample volume = 2500 uL (+250 uL from P300)\n",
      "    sample volume = 2750 uL (+250 uL from P300)\n",
      "    sample volume = 3000 uL (+250 uL from P300)\n",
      "    sample volume = 3250 uL (+250 uL from P300)\n",
      "    sample volume = 3500 uL (+250 uL from P300)\n",
      "    sample volume = 3750 uL (+250 uL from P300)\n",
      "    sample volume = 4000 uL (+250 uL from P300)\n",
      "    sample volume = 4250 uL (+250 uL from P300)\n",
      "    sample volume = 4500 uL (+250 uL from P300)\n",
      "    sample volume = 4750 uL (+250 uL from P300)\n",
      "    sample volume = 5000 uL (+250 uL from P300)\n"
     ]
    },
    {
     "name": "stderr",
     "output_type": "stream",
     "text": [
      "Out of bounds move: Y=351.70248541322326 (transformed: 353.9667813140568) not inlimits (-0.3398532169938517, 347.63439142779924) (transformed: (0, 350.05)\n",
      "Out of bounds move: Y=351.70248541322326 (transformed: 353.9667813140568) not inlimits (-0.3398532169938517, 347.63439142779924) (transformed: (0, 350.05)\n",
      "Out of bounds move: Y=351.70248541322326 (transformed: 353.9667813140568) not inlimits (-0.3398532169938517, 347.63439142779924) (transformed: (0, 350.05)\n",
      "Out of bounds move: Y=351.70248541322326 (transformed: 353.9667813140568) not inlimits (-0.3398532169938517, 347.63439142779924) (transformed: (0, 350.05)\n",
      "Out of bounds move: Y=351.6977077770244 (transformed: 353.96199999999993) not inlimits (-0.3398532169938517, 347.63439142779924) (transformed: (0, 350.05)\n",
      "Out of bounds move: Y=351.6977077770244 (transformed: 353.95637774999994) not inlimits (-0.3398532169938517, 347.63439142779924) (transformed: (0, 350.05)\n",
      "Out of bounds move: Y=351.6977077770244 (transformed: 353.96762225) not inlimits (-0.3398532169938517, 347.63439142779924) (transformed: (0, 350.05)\n",
      "Out of bounds move: Y=351.6977077770244 (transformed: 353.96199999999993) not inlimits (-0.3398532169938517, 347.63439142779924) (transformed: (0, 350.05)\n",
      "Out of bounds move: Y=351.6977077770244 (transformed: 353.96199999999993) not inlimits (-0.3398532169938517, 347.63439142779924) (transformed: (0, 350.05)\n"
     ]
    },
    {
     "name": "stdout",
     "output_type": "stream",
     "text": [
      "Volume Remaining = 0 uL\n"
     ]
    }
   ],
   "source": [
    "volume_green = 50000\n",
    "volume_red = 50000\n",
    "volume_water = 40000\n",
    "\n",
    "\n",
    "# 5 mL Green to Water\n",
    "volume_green, volume_water, volumeRemaining_1 = aspirateVolume(5000,\n",
    "               solvents,\n",
    "               \"B1\",\n",
    "               volume_green,\n",
    "               \"VWR_50mL\",\n",
    "               solvents,\n",
    "               \"B2\",\n",
    "               volume_water,\n",
    "               newPipetteTip = 1,\n",
    "               dispenseRate = 1\n",
    "              )\n",
    "\n",
    "print(\"Volume Remaining = \"+str(volumeRemaining_1)+\" uL\")\n",
    "\n",
    "# 5 mL Red to Water\n",
    "volume_red, volume_water, volumeRemaining_2 = aspirateVolume(5000,\n",
    "               solvents,\n",
    "               \"B3\",\n",
    "               volume_red,\n",
    "               \"VWR_50mL\",\n",
    "               solvents,\n",
    "               \"B2\",\n",
    "               volume_water,\n",
    "               newPipetteTip = 1,\n",
    "               dispenseRate = 1\n",
    "              )\n",
    "\n",
    "print(\"Volume Remaining = \"+str(volumeRemaining_2)+\" uL\")"
   ]
  },
  {
   "cell_type": "code",
   "execution_count": 4,
   "metadata": {},
   "outputs": [
    {
     "data": {
      "text/plain": [
       "45000"
      ]
     },
     "execution_count": 4,
     "metadata": {},
     "output_type": "execute_result"
    }
   ],
   "source": [
    "volume_green"
   ]
  },
  {
   "cell_type": "code",
   "execution_count": 5,
   "metadata": {},
   "outputs": [
    {
     "data": {
      "text/plain": [
       "45000"
      ]
     },
     "execution_count": 5,
     "metadata": {},
     "output_type": "execute_result"
    }
   ],
   "source": [
    "volume_red"
   ]
  },
  {
   "cell_type": "code",
   "execution_count": 6,
   "metadata": {},
   "outputs": [
    {
     "data": {
      "text/plain": [
       "50000"
      ]
     },
     "execution_count": 6,
     "metadata": {},
     "output_type": "execute_result"
    }
   ],
   "source": [
    "volume_water"
   ]
  },
  {
   "cell_type": "code",
   "execution_count": 7,
   "metadata": {},
   "outputs": [
    {
     "name": "stdout",
     "output_type": "stream",
     "text": [
      "Sending pipette carriage home.\n",
      "    Done!\n",
      "\n"
     ]
    }
   ],
   "source": [
    "ot2.ResetRobot()"
   ]
  },
  {
   "cell_type": "code",
   "execution_count": null,
   "metadata": {},
   "outputs": [],
   "source": []
  }
 ],
 "metadata": {
  "kernelspec": {
   "display_name": "Python 3",
   "language": "python",
   "name": "python3"
  },
  "language_info": {
   "codemirror_mode": {
    "name": "ipython",
    "version": 3
   },
   "file_extension": ".py",
   "mimetype": "text/x-python",
   "name": "python",
   "nbconvert_exporter": "python",
   "pygments_lexer": "ipython3",
   "version": "3.7.1"
  }
 },
 "nbformat": 4,
 "nbformat_minor": 2
}
